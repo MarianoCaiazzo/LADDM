{
  "nbformat": 4,
  "nbformat_minor": 0,
  "metadata": {
    "colab": {
      "provenance": []
    },
    "kernelspec": {
      "name": "python3",
      "display_name": "Python 3"
    },
    "language_info": {
      "name": "python"
    }
  },
  "cells": [
    {
      "cell_type": "code",
      "execution_count": 27,
      "metadata": {
        "id": "BVgOsoZDsZWf"
      },
      "outputs": [],
      "source": [
        "import pandas as pd\n",
        "from sklearn.ensemble import RandomForestClassifier\n",
        "from sklearn.model_selection import train_test_split\n",
        "from sklearn.metrics import confusion_matrix, classification_report\n",
        "from sklearn.metrics import accuracy_score\n",
        "from sklearn.feature_extraction.text import TfidfVectorizer\n",
        "import joblib\n",
        "import ast\n",
        "import math\n",
        "import matplotlib.pyplot as plt\n",
        "import seaborn as sns"
      ]
    },
    {
      "cell_type": "code",
      "source": [
        "def elimina_alfa(lista):\n",
        "  lista_valori = lista.split(\",\")\n",
        "  values = []\n",
        "  for val in lista_valori:\n",
        "    temp = \"\"\n",
        "    for v in val:\n",
        "      if v.isdigit():\n",
        "        temp = temp+v\n",
        "    values.append(int(temp))\n",
        "  return sum(values)"
      ],
      "metadata": {
        "id": "uTGl8m0Ym5XD"
      },
      "execution_count": 28,
      "outputs": []
    },
    {
      "cell_type": "code",
      "source": [
        "def plot_confusion_matrix(conf_matrix, class_names, path):\n",
        "    plt.figure(figsize=(5, 5))\n",
        "    sns.heatmap(\n",
        "        conf_matrix, annot=True, fmt=\"d\", cmap=\"Blues\", linewidths=.5,\n",
        "        square=True, xticklabels=class_names, yticklabels=class_names\n",
        "    )\n",
        "    plt.xlabel('Predicted')\n",
        "    plt.ylabel('Actual')\n",
        "    plt.savefig(path)\n"
      ],
      "metadata": {
        "id": "gl7lg8p8wsZI"
      },
      "execution_count": 29,
      "outputs": []
    },
    {
      "cell_type": "code",
      "source": [
        "def somma_val(lista):\n",
        "  return sum(ast.literal_eval(lista))"
      ],
      "metadata": {
        "id": "tCubcqAQj6sp"
      },
      "execution_count": 30,
      "outputs": []
    },
    {
      "cell_type": "code",
      "source": [
        "# def fix_dataframe(df):\n",
        "#   for index, row in df.iterrows():\n",
        "#     df.at[index,'Features'] = elimina_alfa(row[\"Features\"])\n",
        "#     df.at[index,'TimeInterval'] = somma_val(row[\"TimeInterval\"])\n",
        "\n",
        "#   return df[df[\"Features\"]== -1 or df[\"TimeInterval\"]== -1 ]\n"
      ],
      "metadata": {
        "id": "mtBgExdvquDY"
      },
      "execution_count": 64,
      "outputs": []
    },
    {
      "cell_type": "code",
      "source": [
        "df = pd.read_csv(\"Event_traces.csv\", sep=\",\")"
      ],
      "metadata": {
        "id": "Kr4iScfnizbf"
      },
      "execution_count": 31,
      "outputs": []
    },
    {
      "cell_type": "code",
      "source": [
        "df.head()"
      ],
      "metadata": {
        "id": "11VXucq_sH0p",
        "colab": {
          "base_uri": "https://localhost:8080/",
          "height": 206
        },
        "outputId": "d104bc65-6a6f-488b-b230-15be703f1df8"
      },
      "execution_count": 32,
      "outputs": [
        {
          "output_type": "execute_result",
          "data": {
            "text/plain": [
              "                    BlockId    Label  Type  \\\n",
              "0  blk_-1608999687919862906  Success   NaN   \n",
              "1   blk_7503483334202473044  Success   NaN   \n",
              "2  blk_-3544583377289625738     Fail  21.0   \n",
              "3  blk_-9073992586687739851  Success   NaN   \n",
              "4   blk_7854771516489510256  Success   NaN   \n",
              "\n",
              "                                            Features  \\\n",
              "0  [E5,E22,E5,E5,E11,E11,E9,E9,E11,E9,E26,E26,E26...   \n",
              "1  [E5,E5,E22,E5,E11,E9,E11,E9,E11,E9,E26,E26,E26...   \n",
              "2  [E5,E22,E5,E5,E11,E9,E11,E9,E11,E9,E3,E26,E26,...   \n",
              "3  [E5,E22,E5,E5,E11,E9,E11,E9,E11,E9,E26,E26,E26...   \n",
              "4  [E5,E5,E22,E5,E11,E9,E11,E9,E11,E9,E26,E26,E26...   \n",
              "\n",
              "                                        TimeInterval  Latency  \n",
              "0  [0.0, 1.0, 0.0, 0.0, 0.0, 0.0, 0.0, 0.0, 0.0, ...     3802  \n",
              "1  [0.0, 0.0, 1.0, 0.0, 0.0, 0.0, 0.0, 0.0, 0.0, ...     3802  \n",
              "2  [0.0, 1.0, 0.0, 0.0, 0.0, 1.0, 0.0, 0.0, 0.0, ...     3797  \n",
              "3  [0.0, 1.0, 0.0, 0.0, 0.0, 0.0, 0.0, 0.0, 0.0, ...    50448  \n",
              "4  [0.0, 0.0, 1.0, 48.0, 0.0, 0.0, 0.0, 0.0, 0.0,...    50583  "
            ],
            "text/html": [
              "\n",
              "  <div id=\"df-8ff058ae-538f-420a-93f3-6c8ce5920988\" class=\"colab-df-container\">\n",
              "    <div>\n",
              "<style scoped>\n",
              "    .dataframe tbody tr th:only-of-type {\n",
              "        vertical-align: middle;\n",
              "    }\n",
              "\n",
              "    .dataframe tbody tr th {\n",
              "        vertical-align: top;\n",
              "    }\n",
              "\n",
              "    .dataframe thead th {\n",
              "        text-align: right;\n",
              "    }\n",
              "</style>\n",
              "<table border=\"1\" class=\"dataframe\">\n",
              "  <thead>\n",
              "    <tr style=\"text-align: right;\">\n",
              "      <th></th>\n",
              "      <th>BlockId</th>\n",
              "      <th>Label</th>\n",
              "      <th>Type</th>\n",
              "      <th>Features</th>\n",
              "      <th>TimeInterval</th>\n",
              "      <th>Latency</th>\n",
              "    </tr>\n",
              "  </thead>\n",
              "  <tbody>\n",
              "    <tr>\n",
              "      <th>0</th>\n",
              "      <td>blk_-1608999687919862906</td>\n",
              "      <td>Success</td>\n",
              "      <td>NaN</td>\n",
              "      <td>[E5,E22,E5,E5,E11,E11,E9,E9,E11,E9,E26,E26,E26...</td>\n",
              "      <td>[0.0, 1.0, 0.0, 0.0, 0.0, 0.0, 0.0, 0.0, 0.0, ...</td>\n",
              "      <td>3802</td>\n",
              "    </tr>\n",
              "    <tr>\n",
              "      <th>1</th>\n",
              "      <td>blk_7503483334202473044</td>\n",
              "      <td>Success</td>\n",
              "      <td>NaN</td>\n",
              "      <td>[E5,E5,E22,E5,E11,E9,E11,E9,E11,E9,E26,E26,E26...</td>\n",
              "      <td>[0.0, 0.0, 1.0, 0.0, 0.0, 0.0, 0.0, 0.0, 0.0, ...</td>\n",
              "      <td>3802</td>\n",
              "    </tr>\n",
              "    <tr>\n",
              "      <th>2</th>\n",
              "      <td>blk_-3544583377289625738</td>\n",
              "      <td>Fail</td>\n",
              "      <td>21.0</td>\n",
              "      <td>[E5,E22,E5,E5,E11,E9,E11,E9,E11,E9,E3,E26,E26,...</td>\n",
              "      <td>[0.0, 1.0, 0.0, 0.0, 0.0, 1.0, 0.0, 0.0, 0.0, ...</td>\n",
              "      <td>3797</td>\n",
              "    </tr>\n",
              "    <tr>\n",
              "      <th>3</th>\n",
              "      <td>blk_-9073992586687739851</td>\n",
              "      <td>Success</td>\n",
              "      <td>NaN</td>\n",
              "      <td>[E5,E22,E5,E5,E11,E9,E11,E9,E11,E9,E26,E26,E26...</td>\n",
              "      <td>[0.0, 1.0, 0.0, 0.0, 0.0, 0.0, 0.0, 0.0, 0.0, ...</td>\n",
              "      <td>50448</td>\n",
              "    </tr>\n",
              "    <tr>\n",
              "      <th>4</th>\n",
              "      <td>blk_7854771516489510256</td>\n",
              "      <td>Success</td>\n",
              "      <td>NaN</td>\n",
              "      <td>[E5,E5,E22,E5,E11,E9,E11,E9,E11,E9,E26,E26,E26...</td>\n",
              "      <td>[0.0, 0.0, 1.0, 48.0, 0.0, 0.0, 0.0, 0.0, 0.0,...</td>\n",
              "      <td>50583</td>\n",
              "    </tr>\n",
              "  </tbody>\n",
              "</table>\n",
              "</div>\n",
              "    <div class=\"colab-df-buttons\">\n",
              "\n",
              "  <div class=\"colab-df-container\">\n",
              "    <button class=\"colab-df-convert\" onclick=\"convertToInteractive('df-8ff058ae-538f-420a-93f3-6c8ce5920988')\"\n",
              "            title=\"Convert this dataframe to an interactive table.\"\n",
              "            style=\"display:none;\">\n",
              "\n",
              "  <svg xmlns=\"http://www.w3.org/2000/svg\" height=\"24px\" viewBox=\"0 -960 960 960\">\n",
              "    <path d=\"M120-120v-720h720v720H120Zm60-500h600v-160H180v160Zm220 220h160v-160H400v160Zm0 220h160v-160H400v160ZM180-400h160v-160H180v160Zm440 0h160v-160H620v160ZM180-180h160v-160H180v160Zm440 0h160v-160H620v160Z\"/>\n",
              "  </svg>\n",
              "    </button>\n",
              "\n",
              "  <style>\n",
              "    .colab-df-container {\n",
              "      display:flex;\n",
              "      gap: 12px;\n",
              "    }\n",
              "\n",
              "    .colab-df-convert {\n",
              "      background-color: #E8F0FE;\n",
              "      border: none;\n",
              "      border-radius: 50%;\n",
              "      cursor: pointer;\n",
              "      display: none;\n",
              "      fill: #1967D2;\n",
              "      height: 32px;\n",
              "      padding: 0 0 0 0;\n",
              "      width: 32px;\n",
              "    }\n",
              "\n",
              "    .colab-df-convert:hover {\n",
              "      background-color: #E2EBFA;\n",
              "      box-shadow: 0px 1px 2px rgba(60, 64, 67, 0.3), 0px 1px 3px 1px rgba(60, 64, 67, 0.15);\n",
              "      fill: #174EA6;\n",
              "    }\n",
              "\n",
              "    .colab-df-buttons div {\n",
              "      margin-bottom: 4px;\n",
              "    }\n",
              "\n",
              "    [theme=dark] .colab-df-convert {\n",
              "      background-color: #3B4455;\n",
              "      fill: #D2E3FC;\n",
              "    }\n",
              "\n",
              "    [theme=dark] .colab-df-convert:hover {\n",
              "      background-color: #434B5C;\n",
              "      box-shadow: 0px 1px 3px 1px rgba(0, 0, 0, 0.15);\n",
              "      filter: drop-shadow(0px 1px 2px rgba(0, 0, 0, 0.3));\n",
              "      fill: #FFFFFF;\n",
              "    }\n",
              "  </style>\n",
              "\n",
              "    <script>\n",
              "      const buttonEl =\n",
              "        document.querySelector('#df-8ff058ae-538f-420a-93f3-6c8ce5920988 button.colab-df-convert');\n",
              "      buttonEl.style.display =\n",
              "        google.colab.kernel.accessAllowed ? 'block' : 'none';\n",
              "\n",
              "      async function convertToInteractive(key) {\n",
              "        const element = document.querySelector('#df-8ff058ae-538f-420a-93f3-6c8ce5920988');\n",
              "        const dataTable =\n",
              "          await google.colab.kernel.invokeFunction('convertToInteractive',\n",
              "                                                    [key], {});\n",
              "        if (!dataTable) return;\n",
              "\n",
              "        const docLinkHtml = 'Like what you see? Visit the ' +\n",
              "          '<a target=\"_blank\" href=https://colab.research.google.com/notebooks/data_table.ipynb>data table notebook</a>'\n",
              "          + ' to learn more about interactive tables.';\n",
              "        element.innerHTML = '';\n",
              "        dataTable['output_type'] = 'display_data';\n",
              "        await google.colab.output.renderOutput(dataTable, element);\n",
              "        const docLink = document.createElement('div');\n",
              "        docLink.innerHTML = docLinkHtml;\n",
              "        element.appendChild(docLink);\n",
              "      }\n",
              "    </script>\n",
              "  </div>\n",
              "\n",
              "\n",
              "<div id=\"df-d796ef7a-fd55-4fdb-9328-ab9ef4432ec9\">\n",
              "  <button class=\"colab-df-quickchart\" onclick=\"quickchart('df-d796ef7a-fd55-4fdb-9328-ab9ef4432ec9')\"\n",
              "            title=\"Suggest charts\"\n",
              "            style=\"display:none;\">\n",
              "\n",
              "<svg xmlns=\"http://www.w3.org/2000/svg\" height=\"24px\"viewBox=\"0 0 24 24\"\n",
              "     width=\"24px\">\n",
              "    <g>\n",
              "        <path d=\"M19 3H5c-1.1 0-2 .9-2 2v14c0 1.1.9 2 2 2h14c1.1 0 2-.9 2-2V5c0-1.1-.9-2-2-2zM9 17H7v-7h2v7zm4 0h-2V7h2v10zm4 0h-2v-4h2v4z\"/>\n",
              "    </g>\n",
              "</svg>\n",
              "  </button>\n",
              "\n",
              "<style>\n",
              "  .colab-df-quickchart {\n",
              "      --bg-color: #E8F0FE;\n",
              "      --fill-color: #1967D2;\n",
              "      --hover-bg-color: #E2EBFA;\n",
              "      --hover-fill-color: #174EA6;\n",
              "      --disabled-fill-color: #AAA;\n",
              "      --disabled-bg-color: #DDD;\n",
              "  }\n",
              "\n",
              "  [theme=dark] .colab-df-quickchart {\n",
              "      --bg-color: #3B4455;\n",
              "      --fill-color: #D2E3FC;\n",
              "      --hover-bg-color: #434B5C;\n",
              "      --hover-fill-color: #FFFFFF;\n",
              "      --disabled-bg-color: #3B4455;\n",
              "      --disabled-fill-color: #666;\n",
              "  }\n",
              "\n",
              "  .colab-df-quickchart {\n",
              "    background-color: var(--bg-color);\n",
              "    border: none;\n",
              "    border-radius: 50%;\n",
              "    cursor: pointer;\n",
              "    display: none;\n",
              "    fill: var(--fill-color);\n",
              "    height: 32px;\n",
              "    padding: 0;\n",
              "    width: 32px;\n",
              "  }\n",
              "\n",
              "  .colab-df-quickchart:hover {\n",
              "    background-color: var(--hover-bg-color);\n",
              "    box-shadow: 0 1px 2px rgba(60, 64, 67, 0.3), 0 1px 3px 1px rgba(60, 64, 67, 0.15);\n",
              "    fill: var(--button-hover-fill-color);\n",
              "  }\n",
              "\n",
              "  .colab-df-quickchart-complete:disabled,\n",
              "  .colab-df-quickchart-complete:disabled:hover {\n",
              "    background-color: var(--disabled-bg-color);\n",
              "    fill: var(--disabled-fill-color);\n",
              "    box-shadow: none;\n",
              "  }\n",
              "\n",
              "  .colab-df-spinner {\n",
              "    border: 2px solid var(--fill-color);\n",
              "    border-color: transparent;\n",
              "    border-bottom-color: var(--fill-color);\n",
              "    animation:\n",
              "      spin 1s steps(1) infinite;\n",
              "  }\n",
              "\n",
              "  @keyframes spin {\n",
              "    0% {\n",
              "      border-color: transparent;\n",
              "      border-bottom-color: var(--fill-color);\n",
              "      border-left-color: var(--fill-color);\n",
              "    }\n",
              "    20% {\n",
              "      border-color: transparent;\n",
              "      border-left-color: var(--fill-color);\n",
              "      border-top-color: var(--fill-color);\n",
              "    }\n",
              "    30% {\n",
              "      border-color: transparent;\n",
              "      border-left-color: var(--fill-color);\n",
              "      border-top-color: var(--fill-color);\n",
              "      border-right-color: var(--fill-color);\n",
              "    }\n",
              "    40% {\n",
              "      border-color: transparent;\n",
              "      border-right-color: var(--fill-color);\n",
              "      border-top-color: var(--fill-color);\n",
              "    }\n",
              "    60% {\n",
              "      border-color: transparent;\n",
              "      border-right-color: var(--fill-color);\n",
              "    }\n",
              "    80% {\n",
              "      border-color: transparent;\n",
              "      border-right-color: var(--fill-color);\n",
              "      border-bottom-color: var(--fill-color);\n",
              "    }\n",
              "    90% {\n",
              "      border-color: transparent;\n",
              "      border-bottom-color: var(--fill-color);\n",
              "    }\n",
              "  }\n",
              "</style>\n",
              "\n",
              "  <script>\n",
              "    async function quickchart(key) {\n",
              "      const quickchartButtonEl =\n",
              "        document.querySelector('#' + key + ' button');\n",
              "      quickchartButtonEl.disabled = true;  // To prevent multiple clicks.\n",
              "      quickchartButtonEl.classList.add('colab-df-spinner');\n",
              "      try {\n",
              "        const charts = await google.colab.kernel.invokeFunction(\n",
              "            'suggestCharts', [key], {});\n",
              "      } catch (error) {\n",
              "        console.error('Error during call to suggestCharts:', error);\n",
              "      }\n",
              "      quickchartButtonEl.classList.remove('colab-df-spinner');\n",
              "      quickchartButtonEl.classList.add('colab-df-quickchart-complete');\n",
              "    }\n",
              "    (() => {\n",
              "      let quickchartButtonEl =\n",
              "        document.querySelector('#df-d796ef7a-fd55-4fdb-9328-ab9ef4432ec9 button');\n",
              "      quickchartButtonEl.style.display =\n",
              "        google.colab.kernel.accessAllowed ? 'block' : 'none';\n",
              "    })();\n",
              "  </script>\n",
              "</div>\n",
              "    </div>\n",
              "  </div>\n"
            ],
            "application/vnd.google.colaboratory.intrinsic+json": {
              "type": "dataframe",
              "variable_name": "df"
            }
          },
          "metadata": {},
          "execution_count": 32
        }
      ]
    },
    {
      "cell_type": "code",
      "source": [
        "df_features = df[[\"Features\",\"TimeInterval\", \"Latency\"]]"
      ],
      "metadata": {
        "id": "GVfELR_mkWyJ"
      },
      "execution_count": 33,
      "outputs": []
    },
    {
      "cell_type": "code",
      "source": [
        "labels_string = df[[\"Label\"]]"
      ],
      "metadata": {
        "id": "_z5clpmIj5bJ"
      },
      "execution_count": 34,
      "outputs": []
    },
    {
      "cell_type": "code",
      "source": [
        "labels = labels_string.applymap(lambda x: 1 if x == \"Success\" else -1)"
      ],
      "metadata": {
        "id": "DT8ZdVWnkL3n"
      },
      "execution_count": 35,
      "outputs": []
    },
    {
      "cell_type": "code",
      "source": [
        "df_features[[\"TimeInterval\"]] = df_features[[\"TimeInterval\"]].applymap(lambda x: sum(ast.literal_eval(x)))\n",
        "df_features[['Features']] = df_features[['Features']].applymap(lambda x: elimina_alfa(x))"
      ],
      "metadata": {
        "id": "LdXO0RkGJrH6"
      },
      "execution_count": null,
      "outputs": []
    },
    {
      "cell_type": "code",
      "source": [
        "# df_features = df_features.drop(41061)\n",
        "# labels = labels.drop(41061)"
      ],
      "metadata": {
        "id": "vTLi9HBstOla"
      },
      "execution_count": 15,
      "outputs": []
    },
    {
      "cell_type": "code",
      "source": [
        "X_train, X_test, y_train, y_test = train_test_split(df_features, labels, test_size=0.2, random_state=42)"
      ],
      "metadata": {
        "id": "bRvsnXWUkFy6"
      },
      "execution_count": null,
      "outputs": []
    },
    {
      "cell_type": "code",
      "source": [
        "rf_model = RandomForestClassifier(n_estimators=100, random_state=42)\n",
        "rf_model.fit(X_train, y_train)\n",
        "rf_predictions = rf_model.predict(X_train)\n",
        "rf_accuracy = accuracy_score(y_train, rf_predictions)\n",
        "print(\"Accuracy Random Forest:\", rf_accuracy)\n",
        "joblib.dump(rf_model, 'RF.save')"
      ],
      "metadata": {
        "id": "dKxkcOS2iaZ4"
      },
      "execution_count": null,
      "outputs": []
    },
    {
      "cell_type": "code",
      "source": [
        "anomalie_test_if = rf_model.predict(X_test)"
      ],
      "metadata": {
        "id": "uZvoe3-DwMdr"
      },
      "execution_count": null,
      "outputs": []
    },
    {
      "cell_type": "code",
      "source": [
        "matrice_confusione = confusion_matrix(y_test, anomalie_test_if)\n",
        "plot_confusion_matrix(matrice_confusione, class_names=[\"Anomaly\",\"Normal\"], path=\"rf_matrix.png\")"
      ],
      "metadata": {
        "id": "_xwyuo50wqM_"
      },
      "execution_count": null,
      "outputs": []
    },
    {
      "cell_type": "code",
      "source": [
        "# Visualizza la matrice di confusione\n",
        "print(\"Matrice di Confusione:\")\n",
        "print(matrice_confusione)\n",
        "\n",
        "# Calcola e visualizza le metriche di classificazione\n",
        "print(\"\\nReport di Classificazione:\")\n",
        "print(classification_report(y_test, anomalie_test_if))"
      ],
      "metadata": {
        "id": "JywiIHL3_hWL"
      },
      "execution_count": null,
      "outputs": []
    }
  ]
}